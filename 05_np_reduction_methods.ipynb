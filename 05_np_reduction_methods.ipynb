{
 "cells": [
  {
   "cell_type": "markdown",
   "id": "89bc8b33-8e8e-4064-9685-46bb28be6152",
   "metadata": {},
   "source": [
    "<h1 style=\"text-align:left;color:brown\">\n",
    "    NumPy\n",
    "</h1>\n",
    "<span style=\"float:right;font-size:medium\"><tt>Code by : Jayadev Patil</tt></span>"
   ]
  },
  {
   "cell_type": "markdown",
   "id": "61c684e9-b9e3-4be1-94dd-c8d45f16920c",
   "metadata": {},
   "source": [
    "## <u><strong>Numpy</strong></u><span style=\"float:right;font-size:medium\"><a href='https://github.com/jayadevnpatil'>github</a></span>\n",
    "This notebook covers **reduction methods** in numpy\n",
    "* sum, prod\n",
    "* min, max\n",
    "* argmin, argmax\n",
    "* cumsum, cumprod\n",
    "* mean, std, var\n",
    "* ptp, any, all"
   ]
  },
  {
   "cell_type": "code",
   "execution_count": 1,
   "id": "4b315892-2167-4581-8c75-7df39649f5da",
   "metadata": {},
   "outputs": [],
   "source": [
    "import numpy as np"
   ]
  },
  {
   "cell_type": "markdown",
   "id": "48062904-0f7f-4f32-91a7-226c7b4a49c7",
   "metadata": {},
   "source": [
    "### Reduction methods\n",
    "\n",
    "In NumPy, reduction operations are functions that perform a computation on an array and return a reduced version of that array. These operations typically collapse the array along one or more dimensions, resulting in a reduced size or a scalar value."
   ]
  },
  {
   "cell_type": "code",
   "execution_count": 2,
   "id": "fb8db924-8965-4975-8936-d245cf0b22d6",
   "metadata": {},
   "outputs": [
    {
     "data": {
      "text/plain": [
       "array([[1, 2, 3],\n",
       "       [4, 5, 6]])"
      ]
     },
     "execution_count": 2,
     "metadata": {},
     "output_type": "execute_result"
    }
   ],
   "source": [
    "arr = np.array([[1, 2, 3], [4, 5, 6]])\n",
    "arr"
   ]
  },
  {
   "cell_type": "markdown",
   "id": "2c76d5fe-33e4-4889-8a45-7bae494d59b3",
   "metadata": {},
   "source": [
    "* np.sum(): Computes the sum of array elements along a specified axis"
   ]
  },
  {
   "cell_type": "code",
   "execution_count": 3,
   "id": "cb476028-cd09-4f50-912c-435cb6d2ca96",
   "metadata": {},
   "outputs": [
    {
     "name": "stdout",
     "output_type": "stream",
     "text": [
      "21\n"
     ]
    }
   ],
   "source": [
    "# Sum along the entire array\n",
    "total_sum = np.sum(arr)\n",
    "print(total_sum)"
   ]
  },
  {
   "cell_type": "code",
   "execution_count": 4,
   "id": "dc00c952-2f5b-419d-be7a-a01c8488de0a",
   "metadata": {},
   "outputs": [
    {
     "name": "stdout",
     "output_type": "stream",
     "text": [
      "[5 7 9]\n"
     ]
    }
   ],
   "source": [
    "# Sum along each column (axis=0)\n",
    "column_sum = np.sum(arr, axis=0)\n",
    "print(column_sum)"
   ]
  },
  {
   "cell_type": "code",
   "execution_count": 5,
   "id": "07dd746b-0bf3-4551-86c6-4ba56ee862a7",
   "metadata": {},
   "outputs": [
    {
     "name": "stdout",
     "output_type": "stream",
     "text": [
      "[ 6 15]\n"
     ]
    }
   ],
   "source": [
    "# Sum along each row (axis=1)\n",
    "row_sum = np.sum(arr, axis=1)\n",
    "print(row_sum)"
   ]
  },
  {
   "cell_type": "code",
   "execution_count": 6,
   "id": "6c26c791-bb00-4a98-aa4c-bedee3309a11",
   "metadata": {},
   "outputs": [
    {
     "data": {
      "image/png": "[encoded data removed]",
      "text/plain": [
       "<IPython.core.display.Image object>"
      ]
     },
     "execution_count": 6,
     "metadata": {
      "image/png": {
       "width": 200
      }
     },
     "output_type": "execute_result"
    }
   ],
   "source": [
    "from IPython import display\n",
    "display.Image(\"reduction.png\", width=200)"
   ]
  },
  {
   "cell_type": "markdown",
   "id": "2fb35007-9ece-49bd-a705-19eecc755df6",
   "metadata": {},
   "source": [
    "* num.prod(): Computes the product of array elements along a specified axis"
   ]
  },
  {
   "cell_type": "code",
   "execution_count": 7,
   "id": "f83ff25f-16d5-4dbe-b10d-5b6ed359af50",
   "metadata": {},
   "outputs": [
    {
     "name": "stdout",
     "output_type": "stream",
     "text": [
      "[  6 120]\n"
     ]
    }
   ],
   "source": [
    "# Product along each row\n",
    "row_product = np.prod(arr, axis=1)\n",
    "print(row_product)"
   ]
  },
  {
   "cell_type": "markdown",
   "id": "a3efc3af-a90a-4e53-b16e-219ae6877b93",
   "metadata": {},
   "source": [
    "* np.min(): Compute the minimum values along a specified axis\n",
    "* np.max(): Compute the maximum values along a specified axis"
   ]
  },
  {
   "cell_type": "code",
   "execution_count": 8,
   "id": "c87e5158-92c4-46bc-af2c-fd5c58548f82",
   "metadata": {},
   "outputs": [
    {
     "name": "stdout",
     "output_type": "stream",
     "text": [
      "[1 2 3]\n",
      "[3 6]\n"
     ]
    }
   ],
   "source": [
    "# Minimum along the columns\n",
    "min_val = np.min(arr, axis=0)\n",
    "print(min_val)\n",
    "\n",
    "# Maximum along the rows\n",
    "max_val = np.max(arr, axis=1)\n",
    "print(max_val)"
   ]
  },
  {
   "cell_type": "markdown",
   "id": "97612a05-b0e2-4f09-9fa4-2fc1cd1bee1c",
   "metadata": {},
   "source": [
    "* np.argmin(): Find the index of minimum values along a specified axis\n",
    "* np.argmax(): Find the index of maximum values along a specified axis"
   ]
  },
  {
   "cell_type": "code",
   "execution_count": 9,
   "id": "cf9079a9-5fa3-4cff-8d4e-30b2b0574b0a",
   "metadata": {},
   "outputs": [
    {
     "name": "stdout",
     "output_type": "stream",
     "text": [
      "[0 0 0]\n",
      "[2 2]\n"
     ]
    }
   ],
   "source": [
    "# Index of minimum value along the columns\n",
    "min_idx = np.argmin(arr, axis=0)\n",
    "print(min_idx)\n",
    "\n",
    "# Index of maximum value along the rows\n",
    "max_idx = np.argmax(arr, axis=1)\n",
    "print(max_idx)"
   ]
  },
  {
   "cell_type": "markdown",
   "id": "5f5dda9a-f2a4-43ea-83d1-aab6bbcd47d2",
   "metadata": {},
   "source": [
    "* np.cumsum(): Computes the cumulative sum of array elements along a specified axis\n",
    "* np.cumprod(): Computes the cumulative product of array elements along a specified axis"
   ]
  },
  {
   "cell_type": "code",
   "execution_count": 10,
   "id": "937156ea-686b-42ed-81d0-d0ef30f9ddd2",
   "metadata": {},
   "outputs": [
    {
     "name": "stdout",
     "output_type": "stream",
     "text": [
      "[[ 1  3  6]\n",
      " [ 4  9 15]]\n",
      "[[ 1  2  3]\n",
      " [ 4 10 18]]\n"
     ]
    }
   ],
   "source": [
    "# Cumulative sum along the rows\n",
    "result = np.cumsum(arr, axis=1)\n",
    "print(result)\n",
    "\n",
    "# Cumulative product along the columns\n",
    "result = np.cumprod(arr, axis=0)\n",
    "print(result)"
   ]
  },
  {
   "cell_type": "markdown",
   "id": "33cc8ed9-6908-49a5-a576-c65c0e66fc76",
   "metadata": {},
   "source": [
    "* np.mean(): Computes the arithmetic mean along a specified axis\n",
    "* np.std(): Calculates the standard deviation along a specified axis\n",
    "* np.var(): Computes the variance along a specified axis"
   ]
  },
  {
   "cell_type": "code",
   "execution_count": 11,
   "id": "47113f22-5e0f-456e-a25e-cbeb6850eec5",
   "metadata": {},
   "outputs": [
    {
     "name": "stdout",
     "output_type": "stream",
     "text": [
      "[2. 5.]\n",
      "[1.5 1.5 1.5]\n",
      "[0.66666667 0.66666667]\n"
     ]
    }
   ],
   "source": [
    "# Mean along the rows\n",
    "mean_result = np.mean(arr, axis=1)\n",
    "print(mean_result)\n",
    "\n",
    "# Standard deviation along the columns\n",
    "std_result = np.std(arr, axis=0)\n",
    "print(std_result)\n",
    "\n",
    "# Variance along the rows\n",
    "var_result = np.var(arr, axis=1)\n",
    "print(var_result)"
   ]
  },
  {
   "cell_type": "markdown",
   "id": "d9178dd5-50a6-4b91-8ef4-b292b185a306",
   "metadata": {},
   "source": [
    "* np.ptp (peak to peak): Range of values (maximum - minimum) along an axis"
   ]
  },
  {
   "cell_type": "code",
   "execution_count": 12,
   "id": "d09f4d35-07dd-4e3c-8f88-26ff9099caef",
   "metadata": {},
   "outputs": [
    {
     "name": "stdout",
     "output_type": "stream",
     "text": [
      "[3 3 3]\n"
     ]
    }
   ],
   "source": [
    "# Peak to peak along the columns\n",
    "\n",
    "ptp_result = np.ptp(arr, axis=0)\n",
    "print(ptp_result)"
   ]
  },
  {
   "cell_type": "markdown",
   "id": "a6b0dad4-5f38-4fa7-957a-e274785f59c3",
   "metadata": {},
   "source": [
    "* np.any():  Tests whether any element along a specified axis evaluates to True"
   ]
  },
  {
   "cell_type": "code",
   "execution_count": 13,
   "id": "bbb01dff-f1c0-429b-9413-2837f2880556",
   "metadata": {},
   "outputs": [
    {
     "name": "stdout",
     "output_type": "stream",
     "text": [
      "[False  True  True]\n"
     ]
    }
   ],
   "source": [
    "# Check if any element is True along the columns\n",
    "arr = np.array([[False, False, True], [False, True, False]])\n",
    "\n",
    "any_result = np.any(arr, axis=0)\n",
    "print(any_result)"
   ]
  },
  {
   "cell_type": "markdown",
   "id": "b90f3e0b-4d5a-46cb-a7a5-e3368f83dfcb",
   "metadata": {},
   "source": [
    "* np.all(): Tests whether all elements along a specified axis evaluate to True"
   ]
  },
  {
   "cell_type": "code",
   "execution_count": 14,
   "id": "ab21efe0-76fb-443a-933c-bfeec9272dfe",
   "metadata": {},
   "outputs": [
    {
     "name": "stdout",
     "output_type": "stream",
     "text": [
      "[ True False]\n"
     ]
    }
   ],
   "source": [
    "# Check if all elements are True along the rows\n",
    "arr = np.array([[True, True, True], [False, True, False]])\n",
    "\n",
    "all_result = np.all(arr, axis=1)\n",
    "print(all_result)"
   ]
  }
 ],
 "metadata": {
  "kernelspec": {
   "display_name": "Python [conda env:jd] *",
   "language": "python",
   "name": "conda-env-jd-py"
  },
  "language_info": {
   "codemirror_mode": {
    "name": "ipython",
    "version": 3
   },
   "file_extension": ".py",
   "mimetype": "text/x-python",
   "name": "python",
   "nbconvert_exporter": "python",
   "pygments_lexer": "ipython3",
   "version": "3.9.18"
  }
 },
 "nbformat": 4,
 "nbformat_minor": 5
}
