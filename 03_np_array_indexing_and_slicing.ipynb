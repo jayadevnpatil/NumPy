{
 "cells": [
  {
   "cell_type": "markdown",
   "id": "665410fe-3490-4cb9-8e61-7b14af0de447",
   "metadata": {},
   "source": [
    "<h1 style=\"text-align:left;color:brown\">\n",
    "    NumPy\n",
    "</h1>\n",
    "<span style=\"float:right;font-size:medium\"><tt>Code by : Jayadev Patil</tt></span>"
   ]
  },
  {
   "cell_type": "markdown",
   "id": "50a722e9-0e57-4f8c-a970-4a709807d259",
   "metadata": {},
   "source": [
    "## <u><strong>Numpy</strong></u><span style=\"float:right;font-size:medium\"><a href='https://github.com/jayadevnpatil'>github</a></span>\n",
    "This notebook covers **array indexing** and **array slicing**"
   ]
  },
  {
   "cell_type": "code",
   "execution_count": 1,
   "id": "ea7c90c2-e79e-41d9-a199-3133a0176aa5",
   "metadata": {},
   "outputs": [
    {
     "name": "stdout",
     "output_type": "stream",
     "text": [
      "1.26.3\n"
     ]
    }
   ],
   "source": [
    "import numpy as np\n",
    "print(np.__version__)"
   ]
  },
  {
   "cell_type": "markdown",
   "id": "95b9e8db-df57-488e-8a1e-77ea8d113faa",
   "metadata": {},
   "source": [
    "### Array Indexing"
   ]
  },
  {
   "cell_type": "markdown",
   "id": "d904b05f-2834-4644-80c1-c5fe5d420338",
   "metadata": {},
   "source": [
    "Array indexing refers to the process of accessing elements within a NumPy array"
   ]
  },
  {
   "cell_type": "markdown",
   "id": "e8820816-dce6-4d6a-8857-56593d188b24",
   "metadata": {},
   "source": [
    "#### Basic indexing"
   ]
  },
  {
   "cell_type": "code",
   "execution_count": 2,
   "id": "d3e79ef9-3e8a-411f-b375-a69ccc81c866",
   "metadata": {},
   "outputs": [
    {
     "name": "stdout",
     "output_type": "stream",
     "text": [
      "5\n"
     ]
    }
   ],
   "source": [
    "# 1D Array\n",
    "arr = np.array([1,2,3,4,5])\n",
    "\n",
    "# element on index 4\n",
    "print(arr[4])"
   ]
  },
  {
   "cell_type": "code",
   "execution_count": 3,
   "id": "638b5d79-92d2-4c2c-a352-4d7bf4e44aa3",
   "metadata": {},
   "outputs": [
    {
     "name": "stdout",
     "output_type": "stream",
     "text": [
      "3\n"
     ]
    }
   ],
   "source": [
    "# 2D Array\n",
    "arr = np.array([[1, 2],\n",
    "                [3, 4]])\n",
    "\n",
    "# element on row:1 and col:0\n",
    "print(arr[1,0])"
   ]
  },
  {
   "cell_type": "code",
   "execution_count": 4,
   "id": "902451fc-6fce-4fae-8645-1ff8ae8c4484",
   "metadata": {},
   "outputs": [
    {
     "name": "stdout",
     "output_type": "stream",
     "text": [
      "(2, 2, 3)\n",
      "9\n"
     ]
    }
   ],
   "source": [
    "# 3D Array\n",
    "arr = np.array([[[ 1,  2,  3],\n",
    "                 [ 4,  5,  6]],\n",
    "                [[ 7,  8,  9],\n",
    "                 [10, 11, 12]]])\n",
    "print(arr.shape)\n",
    "\n",
    "# element at index (1, 0, 2)\n",
    "print(arr[1, 0, 2])"
   ]
  },
  {
   "cell_type": "code",
   "execution_count": 5,
   "id": "8eb02424-51f1-44d0-9221-395363735f57",
   "metadata": {},
   "outputs": [
    {
     "name": "stdout",
     "output_type": "stream",
     "text": [
      "4\n"
     ]
    }
   ],
   "source": [
    "# Negative indexing\n",
    "arr = np.array([1,2,3,4,5])\n",
    "\n",
    "# element on index -2\n",
    "print(arr[-2])"
   ]
  },
  {
   "cell_type": "code",
   "execution_count": 6,
   "id": "b376dbf0-34a8-4274-98ec-73a627f1e0a2",
   "metadata": {},
   "outputs": [
    {
     "name": "stdout",
     "output_type": "stream",
     "text": [
      "[False False False  True  True]\n",
      "[4 5]\n"
     ]
    }
   ],
   "source": [
    "# Boolean indexing\n",
    "arr = np.array([1, 2, 3, 4, 5])\n",
    "\n",
    "mask = arr > 3\n",
    "print(mask)\n",
    "print(arr[mask])"
   ]
  },
  {
   "cell_type": "markdown",
   "id": "f3090d10-8931-4f25-b62e-aea1d3f96af5",
   "metadata": {},
   "source": [
    "### Array Slicing"
   ]
  },
  {
   "cell_type": "markdown",
   "id": "7c5548a9-bc9a-4a65-99af-270f675f8a12",
   "metadata": {},
   "source": [
    "Array slicing in NumPy refers to the process of extracting a subset of elements from a NumPy array based on specified start, stop, and step parameters.\n",
    "\n",
    "<strong><tt>array[start:stop:step]</strong></tt>\n",
    "\n",
    "- **start**: The index indicating the start of the slice. If not provided, slicing starts from the beginning of the array.\n",
    "  \n",
    "- **stop**: The index indicating the end of the slice. The slice will not include this index. If not provided, slicing goes to the end of the array\n",
    "\n",
    "- **step** : The step size used to increment the index while slicing. If not provided, the default step size is"
   ]
  },
  {
   "cell_type": "code",
   "execution_count": 7,
   "id": "17075d7c-0ce5-4acd-8698-133c7b55a12b",
   "metadata": {},
   "outputs": [
    {
     "name": "stdout",
     "output_type": "stream",
     "text": [
      "[2 3 4 5 6]\n",
      "[1 3 5 7]\n",
      "[0 1 2 3 4]\n",
      "[5 6 7 8 9]\n",
      "[5 6 7]\n"
     ]
    }
   ],
   "source": [
    "# 1D Array Slicing\n",
    "arr = np.array([0, 1, 2, 3, 4, 5, 6, 7, 8, 9])\n",
    "\n",
    "# Slicing to get a subset of elements\n",
    "print(arr[2:7])\n",
    "\n",
    "# Slicing with step\n",
    "print(arr[1:9:2])\n",
    "\n",
    "# Slicing from the beginning\n",
    "print(arr[:5])\n",
    "\n",
    "# Slicing to the end\n",
    "print(arr[5:])\n",
    "\n",
    "# Slicing with negative indices\n",
    "print(arr[-5:-2])"
   ]
  },
  {
   "cell_type": "code",
   "execution_count": 8,
   "id": "ca918ecd-eb34-4ceb-b7e2-ec41f8241223",
   "metadata": {},
   "outputs": [
    {
     "name": "stdout",
     "output_type": "stream",
     "text": [
      "[[2 3]\n",
      " [5 6]]\n",
      "[[1 3]\n",
      " [7 9]]\n"
     ]
    }
   ],
   "source": [
    "arr = np.array([[1, 2, 3],\n",
    "                    [4, 5, 6],\n",
    "                    [7, 8, 9]])\n",
    "\n",
    "# taking the subset of rows and columns\n",
    "print(arr[0:2, 1:3])\n",
    "\n",
    "# Slicing with step\n",
    "print(arr[::2, ::2])"
   ]
  }
 ],
 "metadata": {
  "kernelspec": {
   "display_name": "Python [conda env:jd] *",
   "language": "python",
   "name": "conda-env-jd-py"
  },
  "language_info": {
   "codemirror_mode": {
    "name": "ipython",
    "version": 3
   },
   "file_extension": ".py",
   "mimetype": "text/x-python",
   "name": "python",
   "nbconvert_exporter": "python",
   "pygments_lexer": "ipython3",
   "version": "3.9.18"
  }
 },
 "nbformat": 4,
 "nbformat_minor": 5
}
