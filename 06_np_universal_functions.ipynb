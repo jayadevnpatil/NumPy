{
 "cells": [
  {
   "cell_type": "markdown",
   "id": "b228bf78-4e21-4520-830e-9f6aac049924",
   "metadata": {},
   "source": [
    "<h1 style=\"text-align:left;color:brown\">\n",
    "    NumPy\n",
    "</h1>\n",
    "<span style=\"float:right;font-size:medium\"><tt>Code by : Jayadev Patil</tt></span>"
   ]
  },
  {
   "cell_type": "markdown",
   "id": "1d2003e8-9cef-4388-841a-213ebd6df1e8",
   "metadata": {},
   "source": [
    "## <u><strong>Numpy</strong></u><span style=\"float:right;font-size:medium\"><a href='https://github.com/jayadevnpatil'>github</a></span>\n",
    "This notebook covers **types of universial functions**\n",
    "* Mathematical\n",
    "* Comparision\n",
    "* Logical\n",
    "* Bitwise\n",
    "* Trignometric\n",
    "* Miscellaneous"
   ]
  },
  {
   "cell_type": "code",
   "execution_count": 1,
   "id": "8d65622f-73f9-4456-92af-19eb83645695",
   "metadata": {},
   "outputs": [],
   "source": [
    "import numpy as np"
   ]
  },
  {
   "cell_type": "markdown",
   "id": "936e212a-8b9d-41f5-a277-51276012d023",
   "metadata": {},
   "source": [
    "### Universal functions"
   ]
  },
  {
   "cell_type": "markdown",
   "id": "b7cb5a8a-19b5-4903-90ec-1ca4800b0d2f",
   "metadata": {},
   "source": [
    "NumPy also provides universal functions (ufuncs) that perform element-wise operations on arrays, producing an array as output."
   ]
  },
  {
   "cell_type": "markdown",
   "id": "8e3021a4-26d9-4a2e-99db-3aa09b5ebf84",
   "metadata": {},
   "source": [
    "* Mathematical operations\n",
    "\n",
    "| Operation | Syntax |\n",
    "|-----------|--------|\n",
    "|a + b|add(a,b)|\n",
    "|a - b|subtract(a,b)|\n",
    "|a * b|multiply(a,b)|\n",
    "|a / b|divide(a,b)|\n",
    "|a % b|remainder(a,b)|\n",
    "|a ** b|power(a,b)|"
   ]
  },
  {
   "cell_type": "code",
   "execution_count": 9,
   "id": "61378ec5-0cf7-4a95-a00a-477400259254",
   "metadata": {},
   "outputs": [
    {
     "name": "stdout",
     "output_type": "stream",
     "text": [
      "[0 1 2 3 4]\n",
      "[1 1 1 1 1]\n",
      "[1 2 3 4 5]\n",
      "[1 2 3 4 5]\n"
     ]
    }
   ],
   "source": [
    "arr1 = np.arange(5)\n",
    "arr2 = np.ones_like(arr1)\n",
    "\n",
    "print(arr1)\n",
    "print(arr2)\n",
    "\n",
    "result = arr1 + arr2 # Elementwise addition\n",
    "print(result)\n",
    "\n",
    "result = np.add(arr1,arr2) # Elementwise addition\n",
    "print(result)"
   ]
  },
  {
   "cell_type": "code",
   "execution_count": 3,
   "id": "478a7e54-53ae-473a-b751-0caeb6f0b5c1",
   "metadata": {},
   "outputs": [
    {
     "data": {
      "image/png": "[encoded data removed]",
      "text/plain": [
       "<IPython.core.display.Image object>"
      ]
     },
     "execution_count": 3,
     "metadata": {
      "image/png": {
       "width": 400
      }
     },
     "output_type": "execute_result"
    }
   ],
   "source": [
    "from IPython import display\n",
    "display.Image(\"universal.png\", width=400)"
   ]
  },
  {
   "cell_type": "markdown",
   "id": "29060fdd-db04-4001-a2ec-7343d9f75621",
   "metadata": {},
   "source": [
    "* Comparision operations\n",
    "\n",
    "| Operations | Syntax |\n",
    "|------------|--------|\n",
    "|(==)|equal|\n",
    "|(!=)|not_equal|\n",
    "|(>)|greater|\n",
    "|(>=)|greater_equal|\n",
    "|(<)|less|\n",
    "|(<=)|less_equal|"
   ]
  },
  {
   "cell_type": "code",
   "execution_count": 11,
   "id": "a9d261a6-1294-44f1-bb13-b8135b0af18e",
   "metadata": {},
   "outputs": [
    {
     "name": "stdout",
     "output_type": "stream",
     "text": [
      "[False  True False]\n",
      "[False  True False]\n"
     ]
    }
   ],
   "source": [
    "arr1 = np.array([1, 2, 3])\n",
    "arr2 = np.array([3, 2, 1])\n",
    "\n",
    "result = (arr1 == arr2) # Elementwise comparision\n",
    "print(result)\n",
    "\n",
    "result = np.equal(arr1,arr2) # Elementwise comparision\n",
    "print(result)"
   ]
  },
  {
   "cell_type": "markdown",
   "id": "07bfe6db-fea4-4ffe-a3b5-bc0f28e72fcb",
   "metadata": {},
   "source": [
    "* Logical operations\n",
    "\n",
    "| Syntax |\n",
    "|--------|\n",
    "|logical_and|\n",
    "|logical_or|\n",
    "|logical_xor|\n",
    "|logical_not|"
   ]
  },
  {
   "cell_type": "code",
   "execution_count": 12,
   "id": "ffe6b73d-c841-4f1f-8066-c6f69acc9f7d",
   "metadata": {},
   "outputs": [
    {
     "name": "stdout",
     "output_type": "stream",
     "text": [
      "[False  True False]\n"
     ]
    }
   ],
   "source": [
    "arr1 = np.array([False, True, True])\n",
    "arr2 = np.array([True, True, False])\n",
    "\n",
    "result = np.logical_and(arr1, arr2)  # Elementwise operation\n",
    "print(result)"
   ]
  },
  {
   "cell_type": "markdown",
   "id": "8b9b5084-38e6-4d4b-b4c2-91dfda1d6fc2",
   "metadata": {},
   "source": [
    "* Bitwise operations\n",
    "\n",
    "| Syntax |\n",
    "|--------|\n",
    "|invert|\n",
    "|bitwise_and|\n",
    "|bitwise_or|\n",
    "|bitwise_xor|\n",
    "|right_shift(a, shifts)|\n",
    "|left_shift(a, shifts)|"
   ]
  },
  {
   "cell_type": "code",
   "execution_count": 15,
   "id": "c1d49804-5275-42ac-a441-3720b1eaf552",
   "metadata": {},
   "outputs": [
    {
     "name": "stdout",
     "output_type": "stream",
     "text": [
      "[254 253 252]\n",
      "[3 2 3]\n",
      "[ 4  8 12]\n"
     ]
    }
   ],
   "source": [
    "arr1 = np.array([1, 2, 3], np.uint8)\n",
    "arr2 = np.array([3, 2, 1], np.uint8)\n",
    "\n",
    "result = np.invert(arr1) # Elementwise operation\n",
    "print(result)\n",
    "\n",
    "result = np.bitwise_or(arr1, arr2) # Elementwise operation\n",
    "print(result)\n",
    "\n",
    "result = np.left_shift(arr1, 2) # Elementwise operation\n",
    "print(result)"
   ]
  },
  {
   "cell_type": "markdown",
   "id": "4a67d5b1-3f57-480d-85ba-00d9b21bc57c",
   "metadata": {},
   "source": [
    "* Trignometric \n",
    "\n",
    "| Syntax | Syntax |\n",
    "|--------|--------|\n",
    "|sin(x)|sinh(x)|\n",
    "|cos(x)|cosh(x)|\n",
    "|arccos(x)|arccosh(x)|\n",
    "|arctan(x)|arctanh(x)|\n",
    "|arcsin(x)|arcsinh(x)|"
   ]
  },
  {
   "cell_type": "code",
   "execution_count": 16,
   "id": "88ead00b-b8ab-4589-9776-33a7443f185a",
   "metadata": {},
   "outputs": [
    {
     "name": "stdout",
     "output_type": "stream",
     "text": [
      "[0.8413 0.909  0.1411]\n"
     ]
    }
   ],
   "source": [
    "arr = np.array([1, 2, 3], np.uint8)  # Elementwise operation\n",
    "\n",
    "result = np.sin(arr)\n",
    "print(result)"
   ]
  },
  {
   "cell_type": "markdown",
   "id": "316bab2a-2459-4dae-bb68-371c96d818d2",
   "metadata": {},
   "source": [
    "* Other function\n",
    "\n",
    "|Syntax|Syntax|\n",
    "|------|------|\n",
    "|exp(x)|log(x)|\n",
    "|sqrt(x)|absolute(x)|\n",
    "|floor(x)|ceil(x)|\n",
    "|hypot(x,y)|log10(x)|\n",
    "|maximum(x,y)|minimum(x,y)|"
   ]
  },
  {
   "cell_type": "code",
   "execution_count": 17,
   "id": "d1d929e9-3df7-46bb-b599-44a0c07d4b71",
   "metadata": {},
   "outputs": [
    {
     "name": "stdout",
     "output_type": "stream",
     "text": [
      "[2. 3. 4.]\n"
     ]
    }
   ],
   "source": [
    "arr = np.array([1.5, 2.3, 3.01], np.float32)\n",
    "\n",
    "result = np.ceil(arr) # Elementwise operation\n",
    "print(result)"
   ]
  },
  {
   "cell_type": "markdown",
   "id": "ec943735-0c7d-4f77-98b3-12dd95f4580f",
   "metadata": {},
   "source": [
    "Explore few more universal functions through official website"
   ]
  }
 ],
 "metadata": {
  "kernelspec": {
   "display_name": "Python [conda env:jd] *",
   "language": "python",
   "name": "conda-env-jd-py"
  },
  "language_info": {
   "codemirror_mode": {
    "name": "ipython",
    "version": 3
   },
   "file_extension": ".py",
   "mimetype": "text/x-python",
   "name": "python",
   "nbconvert_exporter": "python",
   "pygments_lexer": "ipython3",
   "version": "3.9.18"
  }
 },
 "nbformat": 4,
 "nbformat_minor": 5
}
