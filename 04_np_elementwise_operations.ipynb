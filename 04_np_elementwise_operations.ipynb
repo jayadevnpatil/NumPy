{
 "cells": [
  {
   "cell_type": "markdown",
   "id": "5d20a538-5071-4a52-9f90-1a857c60afaf",
   "metadata": {},
   "source": [
    "<h1 style=\"text-align:left;color:brown\">\n",
    "    NumPy\n",
    "</h1>\n",
    "<span style=\"float:right;font-size:medium\"><tt>Code by : Jayadev Patil</tt></span>"
   ]
  },
  {
   "cell_type": "markdown",
   "id": "6d98e9e5-284c-482e-99ac-5ea56149d7f5",
   "metadata": {},
   "source": [
    "## <u><strong>Numpy</strong></u><span style=\"float:right;font-size:medium\"><a href='https://github.com/jayadevnpatil'>github</a></span>\n",
    "This notebook covers **elementwise operations** over the arrays\n",
    "* Elementwise addition, subtraction, multiplication, division, exponentiation\n",
    "* Matrix Multiplication\n",
    "* Dot Product"
   ]
  },
  {
   "cell_type": "code",
   "execution_count": 1,
   "id": "1e394a67-3e87-4597-9cc1-4bd498251658",
   "metadata": {},
   "outputs": [],
   "source": [
    "import numpy as np"
   ]
  },
  {
   "cell_type": "markdown",
   "id": "9169c684-24aa-48ae-8b84-6c69729203d8",
   "metadata": {},
   "source": [
    "As a basic exercise we create multi dimensional arrays as below"
   ]
  },
  {
   "cell_type": "code",
   "execution_count": 2,
   "id": "467ce1d1-829c-437d-8a59-00fc41fede89",
   "metadata": {},
   "outputs": [
    {
     "data": {
      "text/plain": [
       "array([0, 1, 2, 3, 4, 5, 6, 7, 8, 9])"
      ]
     },
     "execution_count": 2,
     "metadata": {},
     "output_type": "execute_result"
    }
   ],
   "source": [
    "np.arange(10).reshape(10) # 1d array"
   ]
  },
  {
   "cell_type": "code",
   "execution_count": 3,
   "id": "b13cb268-8111-4f52-a484-42be0fbb4e5d",
   "metadata": {},
   "outputs": [
    {
     "data": {
      "text/plain": [
       "array([[ 0,  1,  2,  3],\n",
       "       [ 4,  5,  6,  7],\n",
       "       [ 8,  9, 10, 11]])"
      ]
     },
     "execution_count": 3,
     "metadata": {},
     "output_type": "execute_result"
    }
   ],
   "source": [
    "np.arange(12).reshape(3,4) # 2d array"
   ]
  },
  {
   "cell_type": "code",
   "execution_count": 4,
   "id": "a74b1630-7d84-4744-a97b-d008e760fac2",
   "metadata": {},
   "outputs": [
    {
     "data": {
      "text/plain": [
       "array([[[ 0,  1,  2,  3],\n",
       "        [ 4,  5,  6,  7],\n",
       "        [ 8,  9, 10, 11]],\n",
       "\n",
       "       [[12, 13, 14, 15],\n",
       "        [16, 17, 18, 19],\n",
       "        [20, 21, 22, 23]]])"
      ]
     },
     "execution_count": 4,
     "metadata": {},
     "output_type": "execute_result"
    }
   ],
   "source": [
    "np.arange(24).reshape(2,3,4) # 3d array"
   ]
  },
  {
   "cell_type": "markdown",
   "id": "a1fa8ac5-3e7f-4efb-adea-3473e9a7555a",
   "metadata": {},
   "source": [
    "### Element-wise Operations"
   ]
  },
  {
   "cell_type": "code",
   "execution_count": 5,
   "id": "993483d2-b168-45d6-a690-621aaf932cdc",
   "metadata": {},
   "outputs": [],
   "source": [
    "# Declaration of arrays\n",
    "\n",
    "arr1 = np.array([[1, 2],\n",
    "                 [3, 4]])\n",
    "arr2 = np.array([[4, 5],\n",
    "                 [6, 7]])"
   ]
  },
  {
   "cell_type": "markdown",
   "id": "46e2dcfd-69f1-4404-948d-a9c59321c9d4",
   "metadata": {},
   "source": [
    "NumPy allows you to perform a wide range of arithmetic operations on arrays. Here are some common arithmetic operations:"
   ]
  },
  {
   "cell_type": "code",
   "execution_count": 6,
   "id": "bf4092c6-6d0b-4381-b712-719e1c16f5f3",
   "metadata": {},
   "outputs": [
    {
     "name": "stdout",
     "output_type": "stream",
     "text": [
      "[[ 5  7]\n",
      " [ 9 11]]\n"
     ]
    }
   ],
   "source": [
    "# Element-wise addition\n",
    "\n",
    "sum = arr1 + arr2\n",
    "print(sum)"
   ]
  },
  {
   "cell_type": "code",
   "execution_count": 7,
   "id": "474fa5c5-d74e-4b81-8507-3f0e90cdcbf8",
   "metadata": {},
   "outputs": [
    {
     "name": "stdout",
     "output_type": "stream",
     "text": [
      "[[3 3]\n",
      " [3 3]]\n"
     ]
    }
   ],
   "source": [
    "# Element-wise subtraction\n",
    "\n",
    "diff = arr2 - arr1\n",
    "print(diff)"
   ]
  },
  {
   "cell_type": "code",
   "execution_count": 8,
   "id": "010d4c7c-d67f-4e0b-9e1e-b43914d13165",
   "metadata": {},
   "outputs": [
    {
     "name": "stdout",
     "output_type": "stream",
     "text": [
      "[[ 4 10]\n",
      " [18 28]]\n"
     ]
    }
   ],
   "source": [
    "# Element-wise multiplication\n",
    "\n",
    "prod = arr1 * arr2\n",
    "print(prod)"
   ]
  },
  {
   "cell_type": "code",
   "execution_count": 9,
   "id": "86a72486-3474-4f53-9f7e-44b625805164",
   "metadata": {},
   "outputs": [
    {
     "name": "stdout",
     "output_type": "stream",
     "text": [
      "[[0.25       0.4       ]\n",
      " [0.5        0.57142857]]\n"
     ]
    }
   ],
   "source": [
    "# Element-wise division\n",
    "\n",
    "result = arr1 / arr2\n",
    "print(result)"
   ]
  },
  {
   "cell_type": "code",
   "execution_count": 10,
   "id": "cfb4238d-ca06-42bb-9862-5c058636342f",
   "metadata": {},
   "outputs": [
    {
     "name": "stdout",
     "output_type": "stream",
     "text": [
      "[[    1    32]\n",
      " [  729 16384]]\n"
     ]
    }
   ],
   "source": [
    "# Element-wise exponentiation\n",
    "\n",
    "result = arr1 ** arr2\n",
    "print(result) "
   ]
  },
  {
   "cell_type": "code",
   "execution_count": 11,
   "id": "1dbe244d-47a1-4b82-b829-87837eb6d32a",
   "metadata": {},
   "outputs": [
    {
     "name": "stdout",
     "output_type": "stream",
     "text": [
      "[[16 19]\n",
      " [36 43]]\n"
     ]
    }
   ],
   "source": [
    "# Matrix Multiplication (defined between two matrices.)\n",
    "\n",
    "# 1st element : (1*4)+(2*6) = 16\n",
    "# 2nd element : (1*5)+(2*7) = 19\n",
    "# 3rd element : (3*4)+(4*6) = 36\n",
    "# 4th element : (3*5)+(4*7) = 43\n",
    "\n",
    "matrix_prod = np.matmul(arr1, arr2)\n",
    "print(matrix_prod)"
   ]
  },
  {
   "cell_type": "code",
   "execution_count": 12,
   "id": "1adfaebf-56b1-4899-98f6-4bcdee9f458e",
   "metadata": {},
   "outputs": [
    {
     "name": "stdout",
     "output_type": "stream",
     "text": [
      "32\n"
     ]
    }
   ],
   "source": [
    "# Dot Product (defined between two vectors)\n",
    "\n",
    "arr1 = np.array([1, 2, 3])\n",
    "arr2 = np.array([4, 5, 6])\n",
    "\n",
    "dot_prod = np.dot(arr1, arr2)\n",
    "print(dot_prod)"
   ]
  }
 ],
 "metadata": {
  "kernelspec": {
   "display_name": "Python [conda env:jd] *",
   "language": "python",
   "name": "conda-env-jd-py"
  },
  "language_info": {
   "codemirror_mode": {
    "name": "ipython",
    "version": 3
   },
   "file_extension": ".py",
   "mimetype": "text/x-python",
   "name": "python",
   "nbconvert_exporter": "python",
   "pygments_lexer": "ipython3",
   "version": "3.9.18"
  }
 },
 "nbformat": 4,
 "nbformat_minor": 5
}
